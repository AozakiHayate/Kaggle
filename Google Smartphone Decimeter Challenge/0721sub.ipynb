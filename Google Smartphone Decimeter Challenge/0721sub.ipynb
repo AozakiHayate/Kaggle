{
 "cells": [
  {
   "cell_type": "markdown",
   "id": "guided-bleeding",
   "metadata": {
    "papermill": {
     "duration": 0.008318,
     "end_time": "2021-07-20T05:29:52.777786",
     "exception": false,
     "start_time": "2021-07-20T05:29:52.769468",
     "status": "completed"
    },
    "tags": []
   },
   "source": [
    "# Average top public notebooks\n",
    "\n",
    "Weighted mean in cartesian coordinates at equal altitude.\n",
    "\n",
    "**All credit to the authors of those notebooks; please look at their work:**\n",
    "* [GSDC phones mean prediction](https://www.kaggle.com/t88take/gsdc-phones-mean-prediction)\n",
    "* [device EDA & Interpolate by removing device[en,ja]](https://www.kaggle.com/columbia2131/device-eda-interpolate-by-removing-device-en-ja)\n",
    "* [GSDC: Position shift](https://www.kaggle.com/wrrosa/gsdc-position-shift)"
   ]
  },
  {
   "cell_type": "code",
   "execution_count": 1,
   "id": "pretty-rapid",
   "metadata": {
    "_cell_guid": "50aef91c-6606-489e-9b1f-a1d28f6c2659",
    "_uuid": "9955fe5e-58da-4178-8680-c0acec0bbd93",
    "execution": {
     "iopub.execute_input": "2021-07-20T05:29:52.797066Z",
     "iopub.status.busy": "2021-07-20T05:29:52.795914Z",
     "iopub.status.idle": "2021-07-20T05:29:54.878935Z",
     "shell.execute_reply": "2021-07-20T05:29:54.878239Z",
     "shell.execute_reply.started": "2021-06-30T13:15:11.492287Z"
    },
    "papermill": {
     "duration": 2.093737,
     "end_time": "2021-07-20T05:29:54.879102",
     "exception": false,
     "start_time": "2021-07-20T05:29:52.785365",
     "status": "completed"
    },
    "tags": []
   },
   "outputs": [],
   "source": [
    "import os\n",
    "import numpy\n",
    "import pandas as pd\n",
    "import wgs_ecef"
   ]
  },
  {
   "cell_type": "code",
   "execution_count": 2,
   "id": "limiting-concrete",
   "metadata": {
    "execution": {
     "iopub.execute_input": "2021-07-20T05:29:54.898925Z",
     "iopub.status.busy": "2021-07-20T05:29:54.898216Z",
     "iopub.status.idle": "2021-07-20T05:29:55.649956Z",
     "shell.execute_reply": "2021-07-20T05:29:55.650465Z",
     "shell.execute_reply.started": "2021-06-30T13:15:11.498531Z"
    },
    "papermill": {
     "duration": 0.76397,
     "end_time": "2021-07-20T05:29:55.650653",
     "exception": false,
     "start_time": "2021-07-20T05:29:54.886683",
     "status": "completed"
    },
    "tags": []
   },
   "outputs": [
    {
     "name": "stdout",
     "output_type": "stream",
     "text": [
      "device-eda-interpolate-by-removing-device-en-ja  gsdc-phones-mean-prediction\r\n",
      "google-smartphone-decimeter-challenge\t\t gsdc-position-shift\r\n"
     ]
    }
   ],
   "source": [
    "!ls ../input/"
   ]
  },
  {
   "cell_type": "code",
   "execution_count": 3,
   "id": "involved-tuesday",
   "metadata": {
    "execution": {
     "iopub.execute_input": "2021-07-20T05:29:55.669786Z",
     "iopub.status.busy": "2021-07-20T05:29:55.669158Z",
     "iopub.status.idle": "2021-07-20T05:29:56.190899Z",
     "shell.execute_reply": "2021-07-20T05:29:56.190366Z",
     "shell.execute_reply.started": "2021-06-30T13:15:12.247704Z"
    },
    "papermill": {
     "duration": 0.53213,
     "end_time": "2021-07-20T05:29:56.191047",
     "exception": false,
     "start_time": "2021-07-20T05:29:55.658917",
     "status": "completed"
    },
    "tags": []
   },
   "outputs": [],
   "source": [
    "gsdc_position_shift = pd.read_csv('../input/gsdc-position-shift/submission.csv')\n",
    "gsdc_phones_mean_prediction = pd.read_csv('../input/gsdc-phones-mean-prediction/submission.csv')\n",
    "google_smartphone_decimeter_challenge = pd.read_csv('../input/device-eda-interpolate-by-removing-device-en-ja/submission.csv')"
   ]
  },
  {
   "cell_type": "code",
   "execution_count": 4,
   "id": "banner-conservation",
   "metadata": {
    "execution": {
     "iopub.execute_input": "2021-07-20T05:29:56.223466Z",
     "iopub.status.busy": "2021-07-20T05:29:56.222725Z",
     "iopub.status.idle": "2021-07-20T05:29:56.257835Z",
     "shell.execute_reply": "2021-07-20T05:29:56.257138Z",
     "shell.execute_reply.started": "2021-06-30T13:15:12.536951Z"
    },
    "papermill": {
     "duration": 0.059187,
     "end_time": "2021-07-20T05:29:56.257977",
     "exception": false,
     "start_time": "2021-07-20T05:29:56.198790",
     "status": "completed"
    },
    "tags": []
   },
   "outputs": [],
   "source": [
    "import numpy as np\n",
    "\n",
    "blend_weights_lat = {\n",
    "    \"gsdc-phones-mean-prediction\": (7.5 + 7.625) / 2 + 0.0625 + 0.0626/2 - 0.0624/4 + 0.0624/8,\n",
    "    \"device-eda-interpolate-by-removing-device-en-ja\":  (2.25 + 2.5) / 2,\n",
    "    \"gsdc-position-shift\":  0.75 - 0.125,\n",
    "}\n",
    "\n",
    "\n",
    "blend_weights_long = {\n",
    "    \"gsdc-phones-mean-prediction\": (7.5 + 7.625) / 2 + 0.0625  + 0.0625/2 - 0.0625/4 + 0.0625/8- 0.0625/16,\n",
    "    \"device-eda-interpolate-by-removing-device-en-ja\":(2.25 + 2.5) / 2,\n",
    "    \"gsdc-position-shift\": 0.75 - 0.125,\n",
    "}\n",
    "\n",
    "lat_norm = sum(blend_weights_lat.values())\n",
    "long_norm = sum(blend_weights_long.values())\n",
    "\n",
    "blend = gsdc_phones_mean_prediction\n",
    "# blend['millisSinceGpsEpoch'] = (\n",
    "#     gsdc_position_shift['millisSinceGpsEpoch'] * blend_weights[\"gsdc-position-shift\"]/norm +\n",
    "#     gsdc_phones_mean_prediction['millisSinceGpsEpoch'] * blend_weights[\"gsdc-phones-mean-prediction\"]/norm +\n",
    "#     google_smartphone_decimeter_challenge['millisSinceGpsEpoch'] * blend_weights[\"device-eda-interpolate-by-removing-device-en-ja\"]/norm\n",
    "# )\n",
    "\n",
    "\n",
    "blend['latDeg'] = (\n",
    "    gsdc_position_shift['latDeg'] **2 * blend_weights_lat[\"gsdc-position-shift\"]/lat_norm +\n",
    "    gsdc_phones_mean_prediction['latDeg'] **2 * blend_weights_lat[\"gsdc-phones-mean-prediction\"]/lat_norm +\n",
    "    google_smartphone_decimeter_challenge['latDeg']**2  * blend_weights_lat[\"device-eda-interpolate-by-removing-device-en-ja\"]/lat_norm \n",
    ")**0.5\n",
    "\n",
    "blend['lngDeg'] = (\n",
    "    gsdc_position_shift['lngDeg'] * blend_weights_long[\"gsdc-position-shift\"]/long_norm +\n",
    "    gsdc_phones_mean_prediction['lngDeg'] * blend_weights_long[\"gsdc-phones-mean-prediction\"]/long_norm +\n",
    "    google_smartphone_decimeter_challenge['lngDeg'] * blend_weights_long[\"device-eda-interpolate-by-removing-device-en-ja\"]/long_norm \n",
    ")\n",
    "\n"
   ]
  },
  {
   "cell_type": "code",
   "execution_count": 5,
   "id": "perceived-transportation",
   "metadata": {
    "execution": {
     "iopub.execute_input": "2021-07-20T05:29:56.280985Z",
     "iopub.status.busy": "2021-07-20T05:29:56.280196Z",
     "iopub.status.idle": "2021-07-20T05:29:56.283801Z",
     "shell.execute_reply": "2021-07-20T05:29:56.284305Z",
     "shell.execute_reply.started": "2021-07-04T08:41:32.934425Z"
    },
    "papermill": {
     "duration": 0.018671,
     "end_time": "2021-07-20T05:29:56.284467",
     "exception": false,
     "start_time": "2021-07-20T05:29:56.265796",
     "status": "completed"
    },
    "tags": []
   },
   "outputs": [
    {
     "data": {
      "text/plain": [
       "4.0"
      ]
     },
     "execution_count": 5,
     "metadata": {},
     "output_type": "execute_result"
    }
   ],
   "source": [
    "(4**2)**0.5"
   ]
  },
  {
   "cell_type": "code",
   "execution_count": 6,
   "id": "entire-valuation",
   "metadata": {
    "execution": {
     "iopub.execute_input": "2021-07-20T05:29:56.305525Z",
     "iopub.status.busy": "2021-07-20T05:29:56.304846Z",
     "iopub.status.idle": "2021-07-20T05:29:56.308409Z",
     "shell.execute_reply": "2021-07-20T05:29:56.307848Z",
     "shell.execute_reply.started": "2021-06-30T13:15:12.599697Z"
    },
    "papermill": {
     "duration": 0.016158,
     "end_time": "2021-07-20T05:29:56.308547",
     "exception": false,
     "start_time": "2021-07-20T05:29:56.292389",
     "status": "completed"
    },
    "tags": []
   },
   "outputs": [],
   "source": [
    "blend['millisSinceGpsEpoch'] = blend['millisSinceGpsEpoch'].astype(np.int64)"
   ]
  },
  {
   "cell_type": "code",
   "execution_count": 7,
   "id": "patient-chrome",
   "metadata": {
    "execution": {
     "iopub.execute_input": "2021-07-20T05:29:56.329025Z",
     "iopub.status.busy": "2021-07-20T05:29:56.328370Z",
     "iopub.status.idle": "2021-07-20T05:29:57.020529Z",
     "shell.execute_reply": "2021-07-20T05:29:57.021065Z",
     "shell.execute_reply.started": "2021-06-30T13:15:12.61287Z"
    },
    "papermill": {
     "duration": 0.704772,
     "end_time": "2021-07-20T05:29:57.021236",
     "exception": false,
     "start_time": "2021-07-20T05:29:56.316464",
     "status": "completed"
    },
    "tags": []
   },
   "outputs": [],
   "source": [
    "blend.to_csv(\"submission.csv\", index=False)"
   ]
  }
 ],
 "metadata": {
  "kernelspec": {
   "display_name": "Python 3",
   "language": "python",
   "name": "python3"
  },
  "language_info": {
   "codemirror_mode": {
    "name": "ipython",
    "version": 3
   },
   "file_extension": ".py",
   "mimetype": "text/x-python",
   "name": "python",
   "nbconvert_exporter": "python",
   "pygments_lexer": "ipython3",
   "version": "3.7.10"
  },
  "papermill": {
   "default_parameters": {},
   "duration": 13.747203,
   "end_time": "2021-07-20T05:29:58.830218",
   "environment_variables": {},
   "exception": null,
   "input_path": "__notebook__.ipynb",
   "output_path": "__notebook__.ipynb",
   "parameters": {},
   "start_time": "2021-07-20T05:29:45.083015",
   "version": "2.3.3"
  }
 },
 "nbformat": 4,
 "nbformat_minor": 5
}
