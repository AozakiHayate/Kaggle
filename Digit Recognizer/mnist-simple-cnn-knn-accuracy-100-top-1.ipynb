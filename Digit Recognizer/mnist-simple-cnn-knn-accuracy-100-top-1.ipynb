{
 "cells": [
  {
   "cell_type": "markdown",
   "id": "24f148b9",
   "metadata": {
    "papermill": {
     "duration": 0.043275,
     "end_time": "2021-10-10T05:18:37.299300",
     "exception": false,
     "start_time": "2021-10-10T05:18:37.256025",
     "status": "completed"
    },
    "tags": []
   },
   "source": [
    "# MNIST: CNN Technique using Keras - (Accuracy: 99.985)\n",
    "\n",
    "* **1. Introduction**\n",
    "* **2. Data preparation**\n",
    "    * 2.1 Load data\n",
    "    * 2.2 Normalization\n",
    "    * 2.3 Reshape\n",
    "    * 2.4 Label encoding\n",
    "    * 2.5 Split training and valdiation set\n",
    "* **3. Convolution Neural Network**\n",
    "    * 3.1 Define the model\n",
    "    * 3.2 Data augmentation\n",
    "    * 3.3 Model training\n",
    "* **4. Evaluate the model**\n",
    "    * 4.1 Training and validation curves\n",
    "    * 4.2 Confusion matrix\n",
    "* **5. Prediction and submition**\n",
    "    * 5.1 Prediction validation results\n",
    "    * 5.2 Submition\n",
    "* **6. The 100% accuracy solution**\n",
    "    * The reason behind KNN\n",
    "* **7. References**\n",
    "* **8. Sklearn Soluation**"
   ]
  },
  {
   "cell_type": "markdown",
   "id": "aa394a8f",
   "metadata": {
    "papermill": {
     "duration": 0.041183,
     "end_time": "2021-10-10T05:18:37.383600",
     "exception": false,
     "start_time": "2021-10-10T05:18:37.342417",
     "status": "completed"
    },
    "tags": []
   },
   "source": [
    "# 1. Introduction\n",
    "\n",
    "This kernel is your start in deep learning.\n",
    "\n",
    "MNIST (\"Modified National Institute of Standards and Technology\") is the de facto “hello world” dataset of computer vision. Since its release in 1999, this classic dataset of handwritten images has served as the basis for benchmarking classification algorithms. A new machine learning techniques emerge, MNIST remains a reliable resource for researchers and learners alike.  In this competition, your goal is to correctly identify digits from a dataset of tens of thousands of handwritten images. We’ve curated a set of tutorial-style kernels which cover everything from regression to neural networks. We encourage you to experiment with different algorithms to learn first-hand what works well and how techniques compare."
   ]
  },
  {
   "cell_type": "markdown",
   "id": "a4c7c29b",
   "metadata": {
    "papermill": {
     "duration": 0.041822,
     "end_time": "2021-10-10T05:18:37.466974",
     "exception": false,
     "start_time": "2021-10-10T05:18:37.425152",
     "status": "completed"
    },
    "tags": []
   },
   "source": [
    "**Import Libraries**"
   ]
  },
  {
   "cell_type": "code",
   "execution_count": 1,
   "id": "c3b8a14e",
   "metadata": {
    "_cell_guid": "b1076dfc-b9ad-4769-8c92-a6c4dae69d19",
    "_uuid": "8f2839f25d086af736a60e9eeb907d3b93b6e0e5",
    "execution": {
     "iopub.execute_input": "2021-10-10T05:18:37.566333Z",
     "iopub.status.busy": "2021-10-10T05:18:37.565651Z",
     "iopub.status.idle": "2021-10-10T05:18:42.695654Z",
     "shell.execute_reply": "2021-10-10T05:18:42.694615Z",
     "shell.execute_reply.started": "2021-07-25T03:09:27.742346Z"
    },
    "papermill": {
     "duration": 5.187127,
     "end_time": "2021-10-10T05:18:42.695871",
     "exception": false,
     "start_time": "2021-10-10T05:18:37.508744",
     "status": "completed"
    },
    "tags": []
   },
   "outputs": [],
   "source": [
    "import warnings\n",
    "warnings.filterwarnings(\"ignore\")\n",
    "\n",
    "# Import the necessary libs\n",
    "import pandas as pd\n",
    "import numpy as np\n",
    "import matplotlib.pyplot as plt\n",
    "import matplotlib.image as mpimg\n",
    "import seaborn as sns\n",
    "%matplotlib inline\n",
    "\n",
    "np.random.seed(2)\n",
    "\n",
    "from sklearn.model_selection import train_test_split\n",
    "from sklearn.metrics import confusion_matrix\n",
    "import itertools\n",
    "\n",
    "from keras.utils.np_utils import to_categorical # convert to one-hot-encoding\n",
    "from keras.models import Sequential\n",
    "from keras.layers import Dense, Dropout, Flatten, Conv2D, MaxPool2D, BatchNormalization\n",
    "from keras.optimizers import RMSprop\n",
    "from keras.preprocessing.image import ImageDataGenerator\n",
    "from keras.callbacks import ReduceLROnPlateau\n",
    "from keras.datasets import mnist\n",
    "import tensorflow as tf\n",
    "\n",
    "sns.set(style='white', context='notebook', palette='deep')"
   ]
  },
  {
   "cell_type": "markdown",
   "id": "6e7fadf3",
   "metadata": {
    "papermill": {
     "duration": 0.041814,
     "end_time": "2021-10-10T05:18:42.779666",
     "exception": false,
     "start_time": "2021-10-10T05:18:42.737852",
     "status": "completed"
    },
    "tags": []
   },
   "source": [
    "# 2. Data preparation\n",
    "## 2.1 Load data"
   ]
  },
  {
   "cell_type": "code",
   "execution_count": 2,
   "id": "9ab68c49",
   "metadata": {
    "execution": {
     "iopub.execute_input": "2021-10-10T05:18:42.867471Z",
     "iopub.status.busy": "2021-10-10T05:18:42.866847Z",
     "iopub.status.idle": "2021-10-10T05:18:47.749696Z",
     "shell.execute_reply": "2021-10-10T05:18:47.750147Z",
     "shell.execute_reply.started": "2021-07-25T03:09:29.255697Z"
    },
    "papermill": {
     "duration": 4.929201,
     "end_time": "2021-10-10T05:18:47.750303",
     "exception": false,
     "start_time": "2021-10-10T05:18:42.821102",
     "status": "completed"
    },
    "tags": []
   },
   "outputs": [
    {
     "name": "stdout",
     "output_type": "stream",
     "text": [
      "Data are Ready!!\n"
     ]
    }
   ],
   "source": [
    "train = pd.read_csv('../input/digit-recognizer/train.csv')\n",
    "test = pd.read_csv('../input/digit-recognizer/test.csv')\n",
    "sub = pd.read_csv('../input/digit-recognizer/sample_submission.csv')\n",
    "\n",
    "print(\"Data are Ready!!\")"
   ]
  },
  {
   "cell_type": "code",
   "execution_count": 3,
   "id": "b6a3f4ba",
   "metadata": {
    "execution": {
     "iopub.execute_input": "2021-10-10T05:18:47.839231Z",
     "iopub.status.busy": "2021-10-10T05:18:47.838613Z",
     "iopub.status.idle": "2021-10-10T05:18:47.842851Z",
     "shell.execute_reply": "2021-10-10T05:18:47.843478Z",
     "shell.execute_reply.started": "2021-07-25T03:09:39.885234Z"
    },
    "papermill": {
     "duration": 0.050783,
     "end_time": "2021-10-10T05:18:47.843647",
     "exception": false,
     "start_time": "2021-10-10T05:18:47.792864",
     "status": "completed"
    },
    "tags": []
   },
   "outputs": [
    {
     "name": "stdout",
     "output_type": "stream",
     "text": [
      "Training data size is (42000, 785)\n",
      "Testing data size is (28000, 784)\n"
     ]
    }
   ],
   "source": [
    "print(f\"Training data size is {train.shape}\\nTesting data size is {test.shape}\")"
   ]
  },
  {
   "cell_type": "markdown",
   "id": "96698a4f",
   "metadata": {
    "papermill": {
     "duration": 0.041793,
     "end_time": "2021-10-10T05:18:47.927833",
     "exception": false,
     "start_time": "2021-10-10T05:18:47.886040",
     "status": "completed"
    },
    "tags": []
   },
   "source": [
    "**Set data features and Target labels**"
   ]
  },
  {
   "cell_type": "code",
   "execution_count": 4,
   "id": "52715031",
   "metadata": {
    "execution": {
     "iopub.execute_input": "2021-10-10T05:18:48.021421Z",
     "iopub.status.busy": "2021-10-10T05:18:48.020529Z",
     "iopub.status.idle": "2021-10-10T05:18:48.103004Z",
     "shell.execute_reply": "2021-10-10T05:18:48.102486Z",
     "shell.execute_reply.started": "2021-07-25T03:09:43.330906Z"
    },
    "papermill": {
     "duration": 0.133284,
     "end_time": "2021-10-10T05:18:48.103153",
     "exception": false,
     "start_time": "2021-10-10T05:18:47.969869",
     "status": "completed"
    },
    "tags": []
   },
   "outputs": [],
   "source": [
    "Y_train = train[\"label\"]\n",
    "X_train = train.drop(labels = [\"label\"], axis = 1) "
   ]
  },
  {
   "cell_type": "markdown",
   "id": "49ee1593",
   "metadata": {
    "papermill": {
     "duration": 0.051821,
     "end_time": "2021-10-10T05:18:48.198067",
     "exception": false,
     "start_time": "2021-10-10T05:18:48.146246",
     "status": "completed"
    },
    "tags": []
   },
   "source": [
    "**Load more data sets**"
   ]
  },
  {
   "cell_type": "code",
   "execution_count": 5,
   "id": "9dc81bfa",
   "metadata": {
    "execution": {
     "iopub.execute_input": "2021-10-10T05:18:48.288573Z",
     "iopub.status.busy": "2021-10-10T05:18:48.287718Z",
     "iopub.status.idle": "2021-10-10T05:18:48.748005Z",
     "shell.execute_reply": "2021-10-10T05:18:48.747519Z",
     "shell.execute_reply.started": "2021-07-25T03:09:43.688915Z"
    },
    "papermill": {
     "duration": 0.50802,
     "end_time": "2021-10-10T05:18:48.748140",
     "exception": false,
     "start_time": "2021-10-10T05:18:48.240120",
     "status": "completed"
    },
    "tags": []
   },
   "outputs": [
    {
     "name": "stdout",
     "output_type": "stream",
     "text": [
      "Downloading data from https://storage.googleapis.com/tensorflow/tf-keras-datasets/mnist.npz\n",
      "11493376/11490434 [==============================] - 0s 0us/step\n"
     ]
    }
   ],
   "source": [
    "# Load more data sets, if there is no such data, validation accuracy = 0.9964\n",
    "# With this batch of data, the validation accuracy can reach 0.9985\n",
    "(x_train1, y_train1), (x_test1, y_test1) = mnist.load_data()\n",
    "\n",
    "train1 = np.concatenate([x_train1, x_test1], axis=0)\n",
    "y_train1 = np.concatenate([y_train1, y_test1], axis=0)\n",
    "\n",
    "Y_train1 = y_train1\n",
    "X_train1 = train1.reshape(-1, 28*28)"
   ]
  },
  {
   "cell_type": "markdown",
   "id": "a3f14adc",
   "metadata": {
    "papermill": {
     "duration": 0.042913,
     "end_time": "2021-10-10T05:18:48.834215",
     "exception": false,
     "start_time": "2021-10-10T05:18:48.791302",
     "status": "completed"
    },
    "tags": []
   },
   "source": [
    "**Is The Target Label Balanced ?**"
   ]
  },
  {
   "cell_type": "code",
   "execution_count": 6,
   "id": "813a6b78",
   "metadata": {
    "execution": {
     "iopub.execute_input": "2021-10-10T05:18:48.923934Z",
     "iopub.status.busy": "2021-10-10T05:18:48.923312Z",
     "iopub.status.idle": "2021-10-10T05:18:49.129211Z",
     "shell.execute_reply": "2021-10-10T05:18:49.129630Z",
     "shell.execute_reply.started": "2021-07-25T03:09:44.302044Z"
    },
    "papermill": {
     "duration": 0.252981,
     "end_time": "2021-10-10T05:18:49.129783",
     "exception": false,
     "start_time": "2021-10-10T05:18:48.876802",
     "status": "completed"
    },
    "tags": []
   },
   "outputs": [
    {
     "data": {
      "image/png": "[encoded data removed]",
      "text/plain": [
       "<Figure size 432x288 with 1 Axes>"
      ]
     },
     "metadata": {},
     "output_type": "display_data"
    }
   ],
   "source": [
    "# Print data histogram\n",
    "sns.countplot(Y_train);"
   ]
  },
  {
   "cell_type": "markdown",
   "id": "e36f30e5",
   "metadata": {
    "papermill": {
     "duration": 0.043945,
     "end_time": "2021-10-10T05:18:49.217568",
     "exception": false,
     "start_time": "2021-10-10T05:18:49.173623",
     "status": "completed"
    },
    "tags": []
   },
   "source": [
    "## 2.2 Normalization"
   ]
  },
  {
   "cell_type": "markdown",
   "id": "431be960",
   "metadata": {
    "papermill": {
     "duration": 0.04329,
     "end_time": "2021-10-10T05:18:49.304466",
     "exception": false,
     "start_time": "2021-10-10T05:18:49.261176",
     "status": "completed"
    },
    "tags": []
   },
   "source": [
    "We perform a grayscale normalization to reduce the effect of illumination's differences. \n",
    "\n",
    "Moreover the CNN converg faster on [0..1] data than on [0..255]."
   ]
  },
  {
   "cell_type": "code",
   "execution_count": 7,
   "id": "d992daa7",
   "metadata": {
    "execution": {
     "iopub.execute_input": "2021-10-10T05:18:49.396088Z",
     "iopub.status.busy": "2021-10-10T05:18:49.395320Z",
     "iopub.status.idle": "2021-10-10T05:18:49.697372Z",
     "shell.execute_reply": "2021-10-10T05:18:49.696308Z",
     "shell.execute_reply.started": "2021-07-25T03:09:45.806649Z"
    },
    "papermill": {
     "duration": 0.349358,
     "end_time": "2021-10-10T05:18:49.697509",
     "exception": false,
     "start_time": "2021-10-10T05:18:49.348151",
     "status": "completed"
    },
    "tags": []
   },
   "outputs": [],
   "source": [
    "# Normalize data to make CNN faster\n",
    "X_train = X_train / 255.0\n",
    "test = test / 255.0\n",
    "\n",
    "X_train1 = X_train1 / 255.0"
   ]
  },
  {
   "cell_type": "markdown",
   "id": "0d18d234",
   "metadata": {
    "papermill": {
     "duration": 0.04341,
     "end_time": "2021-10-10T05:18:49.784615",
     "exception": false,
     "start_time": "2021-10-10T05:18:49.741205",
     "status": "completed"
    },
    "tags": []
   },
   "source": [
    "**Merging all the data we got**"
   ]
  },
  {
   "cell_type": "code",
   "execution_count": 8,
   "id": "ea1469a9",
   "metadata": {
    "execution": {
     "iopub.execute_input": "2021-10-10T05:18:49.878258Z",
     "iopub.status.busy": "2021-10-10T05:18:49.877170Z",
     "iopub.status.idle": "2021-10-10T05:18:50.145073Z",
     "shell.execute_reply": "2021-10-10T05:18:50.144561Z",
     "shell.execute_reply.started": "2021-07-25T03:09:47.420064Z"
    },
    "papermill": {
     "duration": 0.317322,
     "end_time": "2021-10-10T05:18:50.145197",
     "exception": false,
     "start_time": "2021-10-10T05:18:49.827875",
     "status": "completed"
    },
    "tags": []
   },
   "outputs": [],
   "source": [
    "# Reshape Picture is 3D array (height = 28px, width = 28px , canal = 1)\n",
    "X_train = np.concatenate((X_train.values, X_train1))\n",
    "Y_train = np.concatenate((Y_train, Y_train1))"
   ]
  },
  {
   "cell_type": "markdown",
   "id": "8dd4b0c0",
   "metadata": {
    "papermill": {
     "duration": 0.04335,
     "end_time": "2021-10-10T05:18:50.235492",
     "exception": false,
     "start_time": "2021-10-10T05:18:50.192142",
     "status": "completed"
    },
    "tags": []
   },
   "source": [
    "## 2.3 Reshape"
   ]
  },
  {
   "cell_type": "code",
   "execution_count": 9,
   "id": "c2df9f57",
   "metadata": {
    "execution": {
     "iopub.execute_input": "2021-10-10T05:18:50.327231Z",
     "iopub.status.busy": "2021-10-10T05:18:50.326638Z",
     "iopub.status.idle": "2021-10-10T05:18:50.330533Z",
     "shell.execute_reply": "2021-10-10T05:18:50.330117Z",
     "shell.execute_reply.started": "2021-07-25T03:09:48.527056Z"
    },
    "papermill": {
     "duration": 0.051634,
     "end_time": "2021-10-10T05:18:50.330644",
     "exception": false,
     "start_time": "2021-10-10T05:18:50.279010",
     "status": "completed"
    },
    "tags": []
   },
   "outputs": [],
   "source": [
    "# Reshape image in 3 dimensions (height = 28px, width = 28px , canal = 1)\n",
    "# canal = 1 => For gray scale\n",
    "X_train = X_train.reshape(-1,28,28,1)\n",
    "test = test.values.reshape(-1,28,28,1)"
   ]
  },
  {
   "cell_type": "markdown",
   "id": "b5d1c321",
   "metadata": {
    "papermill": {
     "duration": 0.043103,
     "end_time": "2021-10-10T05:18:50.417025",
     "exception": false,
     "start_time": "2021-10-10T05:18:50.373922",
     "status": "completed"
    },
    "tags": []
   },
   "source": [
    "**One-Hot Encoding**"
   ]
  },
  {
   "cell_type": "code",
   "execution_count": 10,
   "id": "24c4fb65",
   "metadata": {
    "execution": {
     "iopub.execute_input": "2021-10-10T05:18:50.509208Z",
     "iopub.status.busy": "2021-10-10T05:18:50.508362Z",
     "iopub.status.idle": "2021-10-10T05:18:50.512890Z",
     "shell.execute_reply": "2021-10-10T05:18:50.513310Z",
     "shell.execute_reply.started": "2021-07-25T03:09:49.326826Z"
    },
    "papermill": {
     "duration": 0.053197,
     "end_time": "2021-10-10T05:18:50.513437",
     "exception": false,
     "start_time": "2021-10-10T05:18:50.460240",
     "status": "completed"
    },
    "tags": []
   },
   "outputs": [],
   "source": [
    "# Convert label to one hot vectors (ex : 2 -> [0,0,1,0,0,0,0,0,0,0])\n",
    "Y_train = to_categorical(Y_train, num_classes = 10)"
   ]
  },
  {
   "cell_type": "markdown",
   "id": "563a4b71",
   "metadata": {
    "papermill": {
     "duration": 0.043707,
     "end_time": "2021-10-10T05:18:50.600598",
     "exception": false,
     "start_time": "2021-10-10T05:18:50.556891",
     "status": "completed"
    },
    "tags": []
   },
   "source": [
    "Labels are 10 digits numbers from 0 to 9. We need to encode these lables to one hot vectors (ex : 2 -> [0,0,1,0,0,0,0,0,0,0])."
   ]
  },
  {
   "cell_type": "markdown",
   "id": "9d0ee23b",
   "metadata": {
    "papermill": {
     "duration": 0.043147,
     "end_time": "2021-10-10T05:18:50.687498",
     "exception": false,
     "start_time": "2021-10-10T05:18:50.644351",
     "status": "completed"
    },
    "tags": []
   },
   "source": [
    "## 2.5 Split training and valdiation set"
   ]
  },
  {
   "cell_type": "code",
   "execution_count": 11,
   "id": "c6bf728e",
   "metadata": {
    "execution": {
     "iopub.execute_input": "2021-10-10T05:18:50.779210Z",
     "iopub.status.busy": "2021-10-10T05:18:50.778427Z",
     "iopub.status.idle": "2021-10-10T05:18:51.000540Z",
     "shell.execute_reply": "2021-10-10T05:18:51.000073Z",
     "shell.execute_reply.started": "2021-07-25T03:09:50.391871Z"
    },
    "papermill": {
     "duration": 0.269836,
     "end_time": "2021-10-10T05:18:51.000671",
     "exception": false,
     "start_time": "2021-10-10T05:18:50.730835",
     "status": "completed"
    },
    "tags": []
   },
   "outputs": [],
   "source": [
    "# Split the train and the validation set for the fitting\n",
    "X_train, X_val, Y_train, Y_val = train_test_split(X_train, Y_train, test_size = 0.1, random_state=2)"
   ]
  },
  {
   "cell_type": "code",
   "execution_count": 12,
   "id": "fa0f5370",
   "metadata": {
    "execution": {
     "iopub.execute_input": "2021-10-10T05:18:51.094124Z",
     "iopub.status.busy": "2021-10-10T05:18:51.093454Z",
     "iopub.status.idle": "2021-10-10T05:18:51.096558Z",
     "shell.execute_reply": "2021-10-10T05:18:51.096984Z",
     "shell.execute_reply.started": "2021-07-25T03:09:50.708424Z"
    },
    "papermill": {
     "duration": 0.0527,
     "end_time": "2021-10-10T05:18:51.097109",
     "exception": false,
     "start_time": "2021-10-10T05:18:51.044409",
     "status": "completed"
    },
    "tags": []
   },
   "outputs": [
    {
     "data": {
      "text/plain": [
       "((100800, 28, 28, 1), (11200, 28, 28, 1), (100800, 10), (11200, 10))"
      ]
     },
     "execution_count": 12,
     "metadata": {},
     "output_type": "execute_result"
    }
   ],
   "source": [
    "X_train.shape, X_val.shape, Y_train.shape, Y_val.shape"
   ]
  },
  {
   "cell_type": "markdown",
   "id": "98d120db",
   "metadata": {
    "papermill": {
     "duration": 0.059045,
     "end_time": "2021-10-10T05:18:51.200218",
     "exception": false,
     "start_time": "2021-10-10T05:18:51.141173",
     "status": "completed"
    },
    "tags": []
   },
   "source": [
    "I choosed to split the train set in two parts : a small fraction (10%) became the validation set which the model is evaluated and the rest (90%) is used to train the model."
   ]
  },
  {
   "cell_type": "markdown",
   "id": "ce42b431",
   "metadata": {
    "papermill": {
     "duration": 0.072747,
     "end_time": "2021-10-10T05:18:51.348980",
     "exception": false,
     "start_time": "2021-10-10T05:18:51.276233",
     "status": "completed"
    },
    "tags": []
   },
   "source": [
    "**Data Visualization**"
   ]
  },
  {
   "cell_type": "code",
   "execution_count": 13,
   "id": "ba288b15",
   "metadata": {
    "execution": {
     "iopub.execute_input": "2021-10-10T05:18:51.505946Z",
     "iopub.status.busy": "2021-10-10T05:18:51.504447Z",
     "iopub.status.idle": "2021-10-10T05:18:51.764798Z",
     "shell.execute_reply": "2021-10-10T05:18:51.765191Z",
     "shell.execute_reply.started": "2021-07-25T03:09:51.48974Z"
    },
    "papermill": {
     "duration": 0.344774,
     "end_time": "2021-10-10T05:18:51.765340",
     "exception": false,
     "start_time": "2021-10-10T05:18:51.420566",
     "status": "completed"
    },
    "tags": []
   },
   "outputs": [
    {
     "data": {
      "image/png": "[encoded data removed]",
      "text/plain": [
       "<Figure size 432x288 with 1 Axes>"
      ]
     },
     "metadata": {},
     "output_type": "display_data"
    }
   ],
   "source": [
    "# Draw an example of a data set to see\n",
    "g = plt.imshow(X_train[189][:,:,0])"
   ]
  },
  {
   "cell_type": "markdown",
   "id": "8f1b20b9",
   "metadata": {
    "papermill": {
     "duration": 0.045542,
     "end_time": "2021-10-10T05:18:51.858575",
     "exception": false,
     "start_time": "2021-10-10T05:18:51.813033",
     "status": "completed"
    },
    "tags": []
   },
   "source": [
    "# 3. CNN\n",
    "## 3.1 Define the model"
   ]
  },
  {
   "cell_type": "markdown",
   "id": "9a450715",
   "metadata": {
    "papermill": {
     "duration": 0.044213,
     "end_time": "2021-10-10T05:18:51.947463",
     "exception": false,
     "start_time": "2021-10-10T05:18:51.903250",
     "status": "completed"
    },
    "tags": []
   },
   "source": [
    "I used the Keras Sequential API, where you have just to add one layer at a time, starting from the input.\n",
    "\n",
    "The first is the convolutional (Conv2D) layer. It is like a set of learnable filters. I choosed to set 64 filters for the two firsts conv2D layers and 64 filters for the two second layers and 64 filters for one third layers and 256 for the last one. Each filter transforms a part of the image (defined by the kernel size) using the kernel filter. The kernel filter matrix is applied on the whole image. Filters can be seen as a transformation of the image.\n",
    "\n",
    "The CNN can isolate features that are useful everywhere from these transformed images (feature maps).\n",
    "\n",
    "The second important layer in CNN is the pooling (MaxPool2D) layer. This layer simply acts as a downsampling filter. It looks at the 2 neighboring pixels and picks the maximal value. These are used to reduce computational cost, and to some extent also reduce overfitting. We have to choose the pooling size (i.e the area size pooled each time) more the pooling dimension is high, more the downsampling is important. \n",
    "\n",
    "Combining convolutional and pooling layers, CNN are able to combine local features and learn more global features of the image.\n",
    "\n",
    "'relu' is the rectifier (activation function max(0,x). The rectifier activation function is used to add non linearity to the network. \n",
    "\n",
    "The Flatten layer is use to convert the final feature maps into a one single 1D vector. This flattening step is needed so that you can make use of fully connected layers after some convolutional/maxpool layers. It combines all the found local features of the previous convolutional layers.\n",
    "\n",
    "In the end i used the features in two fully-connected (Dense) layers which is just artificial an neural networks (ANN) classifier. In the last layer(Dense(10,activation=\"softmax\")) the net outputs distribution of probability of each class."
   ]
  },
  {
   "cell_type": "markdown",
   "id": "21d53843",
   "metadata": {
    "papermill": {
     "duration": 0.043945,
     "end_time": "2021-10-10T05:18:52.035423",
     "exception": false,
     "start_time": "2021-10-10T05:18:51.991478",
     "status": "completed"
    },
    "tags": []
   },
   "source": [
    "**Model Definition**"
   ]
  },
  {
   "cell_type": "code",
   "execution_count": 14,
   "id": "d93293d1",
   "metadata": {
    "execution": {
     "iopub.execute_input": "2021-10-10T05:18:52.133584Z",
     "iopub.status.busy": "2021-10-10T05:18:52.131324Z",
     "iopub.status.idle": "2021-10-10T05:18:54.234260Z",
     "shell.execute_reply": "2021-10-10T05:18:54.233798Z",
     "shell.execute_reply.started": "2021-07-25T03:09:53.585716Z"
    },
    "papermill": {
     "duration": 2.154916,
     "end_time": "2021-10-10T05:18:54.234400",
     "exception": false,
     "start_time": "2021-10-10T05:18:52.079484",
     "status": "completed"
    },
    "tags": []
   },
   "outputs": [],
   "source": [
    "#Creating CNN model\n",
    "\"\"\"\n",
    "  [[Conv2D->relu]*2 -> BatchNormalization -> MaxPool2D -> Dropout]*2 -> \n",
    "  [Conv2D->relu]*2 -> BatchNormalization -> Dropout -> \n",
    "  Flatten -> Dense -> BatchNormalization -> Dropout -> Out\n",
    "\"\"\"\n",
    "model = Sequential()\n",
    "\n",
    "model.add(Conv2D(filters = 64, kernel_size = (5,5),padding = 'Same', activation ='relu', input_shape = (28,28,1)))\n",
    "model.add(BatchNormalization())\n",
    "\n",
    "model.add(Conv2D(filters = 64, kernel_size = (5,5),padding = 'Same', activation ='relu'))\n",
    "model.add(BatchNormalization())\n",
    "\n",
    "model.add(MaxPool2D(pool_size=(2,2)))\n",
    "model.add(Dropout(0.25))\n",
    "\n",
    "model.add(Conv2D(filters = 64, kernel_size = (3,3),padding = 'Same', activation ='relu'))\n",
    "model.add(BatchNormalization())\n",
    "\n",
    "model.add(Conv2D(filters = 64, kernel_size = (3,3),padding = 'Same', activation ='relu'))\n",
    "model.add(BatchNormalization())\n",
    "model.add(MaxPool2D(pool_size=(2,2), strides=(2,2)))\n",
    "model.add(Dropout(0.25))\n",
    "\n",
    "model.add(Conv2D(filters = 64, kernel_size = (3,3), padding = 'Same',  activation ='relu'))\n",
    "model.add(BatchNormalization())\n",
    "model.add(Dropout(0.25))\n",
    "\n",
    "model.add(Flatten())\n",
    "model.add(Dense(256, activation = \"relu\"))\n",
    "model.add(BatchNormalization())\n",
    "model.add(Dropout(0.25))\n",
    "\n",
    "model.add(Dense(10, activation = \"softmax\"))"
   ]
  },
  {
   "cell_type": "markdown",
   "id": "28c41601",
   "metadata": {
    "papermill": {
     "duration": 0.044326,
     "end_time": "2021-10-10T05:18:54.323444",
     "exception": false,
     "start_time": "2021-10-10T05:18:54.279118",
     "status": "completed"
    },
    "tags": []
   },
   "source": [
    "**Plot CNN model**"
   ]
  },
  {
   "cell_type": "code",
   "execution_count": 15,
   "id": "63f9f447",
   "metadata": {
    "execution": {
     "iopub.execute_input": "2021-10-10T05:18:54.417132Z",
     "iopub.status.busy": "2021-10-10T05:18:54.416335Z",
     "iopub.status.idle": "2021-10-10T05:18:54.908668Z",
     "shell.execute_reply": "2021-10-10T05:18:54.909099Z",
     "shell.execute_reply.started": "2021-07-25T03:09:55.689982Z"
    },
    "papermill": {
     "duration": 0.541301,
     "end_time": "2021-10-10T05:18:54.909248",
     "exception": false,
     "start_time": "2021-10-10T05:18:54.367947",
     "status": "completed"
    },
    "tags": []
   },
   "outputs": [
    {
     "data": {
      "image/png": "[encoded data removed]",
      "text/plain": [
       "<IPython.core.display.Image object>"
      ]
     },
     "execution_count": 15,
     "metadata": {},
     "output_type": "execute_result"
    }
   ],
   "source": [
    "# print out model look\n",
    "from keras.utils import plot_model\n",
    "plot_model(model, to_file='model.png', show_shapes=True, show_layer_names=True)\n",
    "from IPython.display import Image\n",
    "Image(\"model.png\")"
   ]
  },
  {
   "cell_type": "code",
   "execution_count": 16,
   "id": "728717ae",
   "metadata": {
    "execution": {
     "iopub.execute_input": "2021-10-10T05:18:55.012680Z",
     "iopub.status.busy": "2021-10-10T05:18:55.011974Z",
     "iopub.status.idle": "2021-10-10T05:18:55.014902Z",
     "shell.execute_reply": "2021-10-10T05:18:55.014438Z",
     "shell.execute_reply.started": "2021-07-25T03:09:56.229769Z"
    },
    "papermill": {
     "duration": 0.056313,
     "end_time": "2021-10-10T05:18:55.015013",
     "exception": false,
     "start_time": "2021-10-10T05:18:54.958700",
     "status": "completed"
    },
    "tags": []
   },
   "outputs": [],
   "source": [
    "# Define Optimizer\n",
    "optimizer = RMSprop(lr=0.001, rho=0.9, epsilon=1e-08, decay=0.0)"
   ]
  },
  {
   "cell_type": "code",
   "execution_count": 17,
   "id": "8e76c982",
   "metadata": {
    "execution": {
     "iopub.execute_input": "2021-10-10T05:18:55.126704Z",
     "iopub.status.busy": "2021-10-10T05:18:55.125922Z",
     "iopub.status.idle": "2021-10-10T05:18:55.132117Z",
     "shell.execute_reply": "2021-10-10T05:18:55.132559Z",
     "shell.execute_reply.started": "2021-07-25T03:09:56.239406Z"
    },
    "papermill": {
     "duration": 0.068257,
     "end_time": "2021-10-10T05:18:55.132686",
     "exception": false,
     "start_time": "2021-10-10T05:18:55.064429",
     "status": "completed"
    },
    "tags": []
   },
   "outputs": [],
   "source": [
    "# Compile model\n",
    "model.compile(optimizer = optimizer , loss = \"categorical_crossentropy\", metrics=[\"accuracy\"])"
   ]
  },
  {
   "cell_type": "code",
   "execution_count": 18,
   "id": "4a9ae5c2",
   "metadata": {
    "execution": {
     "iopub.execute_input": "2021-10-10T05:18:55.238992Z",
     "iopub.status.busy": "2021-10-10T05:18:55.238434Z",
     "iopub.status.idle": "2021-10-10T05:18:55.242613Z",
     "shell.execute_reply": "2021-10-10T05:18:55.242156Z",
     "shell.execute_reply.started": "2021-07-25T03:10:01.47019Z"
    },
    "papermill": {
     "duration": 0.057834,
     "end_time": "2021-10-10T05:18:55.242719",
     "exception": false,
     "start_time": "2021-10-10T05:18:55.184885",
     "status": "completed"
    },
    "tags": []
   },
   "outputs": [],
   "source": [
    "# Audjusting learning rate\n",
    "learning_rate_reduction = ReduceLROnPlateau(monitor='val_acc', \n",
    "                                            patience=3, \n",
    "                                            verbose=1, \n",
    "                                            factor=0.5, \n",
    "                                            min_lr=0.00001)"
   ]
  },
  {
   "cell_type": "code",
   "execution_count": 19,
   "id": "6941480f",
   "metadata": {
    "execution": {
     "iopub.execute_input": "2021-10-10T05:18:55.345336Z",
     "iopub.status.busy": "2021-10-10T05:18:55.344821Z",
     "iopub.status.idle": "2021-10-10T05:18:55.348569Z",
     "shell.execute_reply": "2021-10-10T05:18:55.348161Z",
     "shell.execute_reply.started": "2021-07-25T03:10:07.69271Z"
    },
    "papermill": {
     "duration": 0.056736,
     "end_time": "2021-10-10T05:18:55.348676",
     "exception": false,
     "start_time": "2021-10-10T05:18:55.291940",
     "status": "completed"
    },
    "tags": []
   },
   "outputs": [],
   "source": [
    "#Adjusting epochs and batch_size\n",
    "epochs = 50\n",
    "batch_size = 128"
   ]
  },
  {
   "cell_type": "markdown",
   "id": "6ec0ccc4",
   "metadata": {
    "papermill": {
     "duration": 0.04943,
     "end_time": "2021-10-10T05:18:55.447363",
     "exception": false,
     "start_time": "2021-10-10T05:18:55.397933",
     "status": "completed"
    },
    "tags": []
   },
   "source": [
    "## 3.2 Data augmentation"
   ]
  },
  {
   "cell_type": "markdown",
   "id": "ffe2fd95",
   "metadata": {
    "papermill": {
     "duration": 0.04935,
     "end_time": "2021-10-10T05:18:55.546389",
     "exception": false,
     "start_time": "2021-10-10T05:18:55.497039",
     "status": "completed"
    },
    "tags": []
   },
   "source": [
    "In order to avoid overfitting problem, we need to expand artificially our handwritten digit dataset. We can make your existing dataset even larger. The idea is to alter the training data with small transformations to reproduce the variations occuring when someone is writing a digit.\n",
    "\n",
    "For example, the number is not centered \n",
    "The scale is not the same (some who write with big/small numbers)\n",
    "The image is rotated...\n",
    "\n",
    "Approaches that alter the training data in ways that change the array representation while keeping the label the same are known as data augmentation techniques. Some popular augmentations people use are grayscales, horizontal flips, vertical flips, random crops, color jitters, translations, rotations, and much more. \n",
    "\n",
    "By applying just a couple of these transformations to our training data, we can easily double or triple the number of training examples and create a very robust model.\n",
    "\n",
    "The improvement is important : \n",
    "   - Without data augmentation i obtained an accuracy of 99.114%\n",
    "   - With data augmentation i achieved 99.985% of accuracy"
   ]
  },
  {
   "cell_type": "code",
   "execution_count": 20,
   "id": "28aac3a8",
   "metadata": {
    "execution": {
     "iopub.execute_input": "2021-10-10T05:18:55.651889Z",
     "iopub.status.busy": "2021-10-10T05:18:55.650846Z",
     "iopub.status.idle": "2021-10-10T05:18:55.773008Z",
     "shell.execute_reply": "2021-10-10T05:18:55.772523Z",
     "shell.execute_reply.started": "2021-07-25T03:10:12.181226Z"
    },
    "papermill": {
     "duration": 0.177493,
     "end_time": "2021-10-10T05:18:55.773141",
     "exception": false,
     "start_time": "2021-10-10T05:18:55.595648",
     "status": "completed"
    },
    "tags": []
   },
   "outputs": [],
   "source": [
    "#Data Augmentation \n",
    "datagen = ImageDataGenerator(\n",
    "        featurewise_center=False, # set input mean to 0 over the dataset\n",
    "        samplewise_center=False,  # set each sample mean to 0\n",
    "        featurewise_std_normalization=False,  # divide inputs by std of the dataset\n",
    "        samplewise_std_normalization=False,  # divide each input by its std\n",
    "        zca_whitening=False,  # apply ZCA whitening\n",
    "        rotation_range=10,  # randomly rotate images in the range (degrees, 0 to 180)\n",
    "        zoom_range = 0.1, # Randomly zoom image \n",
    "        width_shift_range=0.1,  # randomly shift images horizontally (fraction of total width)\n",
    "        height_shift_range=0.1,  # randomly shift images vertically (fraction of total height)\n",
    "        horizontal_flip=False,  # randomly flip images\n",
    "        vertical_flip=False)  # randomly flip images\n",
    "\n",
    "#datagen.fit(X_train)\n",
    "train_gen = datagen.flow(X_train,Y_train, batch_size=batch_size)"
   ]
  },
  {
   "cell_type": "markdown",
   "id": "b1acd8e1",
   "metadata": {
    "papermill": {
     "duration": 0.049196,
     "end_time": "2021-10-10T05:18:55.872443",
     "exception": false,
     "start_time": "2021-10-10T05:18:55.823247",
     "status": "completed"
    },
    "tags": []
   },
   "source": [
    "For the data augmentation, i choosed to :\n",
    "   - Randomly rotate some training images by 10 degrees\n",
    "   - Randomly  Zoom by 10% some training images\n",
    "   - Randomly shift images horizontally by 10% of the width\n",
    "   - Randomly shift images vertically by 10% of the height\n",
    "   \n",
    "I did not apply a vertical_flip nor horizontal_flip since it could have lead to misclassify symetrical numbers such as 6 and 9.\n",
    "\n",
    "Once our model is ready, we fit the training dataset ."
   ]
  },
  {
   "cell_type": "markdown",
   "id": "10f8f63d",
   "metadata": {
    "papermill": {
     "duration": 0.049613,
     "end_time": "2021-10-10T05:18:55.971734",
     "exception": false,
     "start_time": "2021-10-10T05:18:55.922121",
     "status": "completed"
    },
    "tags": []
   },
   "source": [
    "## 3.3 Model training"
   ]
  },
  {
   "cell_type": "code",
   "execution_count": 21,
   "id": "da5093a0",
   "metadata": {
    "execution": {
     "iopub.execute_input": "2021-10-10T05:18:56.076985Z",
     "iopub.status.busy": "2021-10-10T05:18:56.076335Z",
     "iopub.status.idle": "2021-10-10T05:41:49.137443Z",
     "shell.execute_reply": "2021-10-10T05:41:49.136553Z",
     "shell.execute_reply.started": "2021-07-25T03:10:14.980044Z"
    },
    "papermill": {
     "duration": 1373.115345,
     "end_time": "2021-10-10T05:41:49.137600",
     "exception": false,
     "start_time": "2021-10-10T05:18:56.022255",
     "status": "completed"
    },
    "tags": []
   },
   "outputs": [
    {
     "name": "stdout",
     "output_type": "stream",
     "text": [
      "Epoch 1/50\n",
      "787/787 - 35s - loss: 0.1484 - accuracy: 0.9544 - val_loss: 0.0312 - val_accuracy: 0.9903\n",
      "Epoch 2/50\n",
      "787/787 - 27s - loss: 0.0490 - accuracy: 0.9851 - val_loss: 0.0231 - val_accuracy: 0.9929\n",
      "Epoch 3/50\n",
      "787/787 - 27s - loss: 0.0389 - accuracy: 0.9882 - val_loss: 0.0273 - val_accuracy: 0.9925\n",
      "Epoch 4/50\n",
      "787/787 - 27s - loss: 0.0337 - accuracy: 0.9895 - val_loss: 0.0193 - val_accuracy: 0.9944\n",
      "Epoch 5/50\n",
      "787/787 - 27s - loss: 0.0302 - accuracy: 0.9911 - val_loss: 0.0241 - val_accuracy: 0.9929\n",
      "Epoch 6/50\n",
      "787/787 - 28s - loss: 0.0273 - accuracy: 0.9918 - val_loss: 0.0138 - val_accuracy: 0.9960\n",
      "Epoch 7/50\n",
      "787/787 - 27s - loss: 0.0252 - accuracy: 0.9919 - val_loss: 0.0177 - val_accuracy: 0.9940\n",
      "Epoch 8/50\n",
      "787/787 - 26s - loss: 0.0239 - accuracy: 0.9927 - val_loss: 0.0123 - val_accuracy: 0.9959\n",
      "Epoch 9/50\n",
      "787/787 - 27s - loss: 0.0217 - accuracy: 0.9933 - val_loss: 0.0183 - val_accuracy: 0.9953\n",
      "Epoch 10/50\n",
      "787/787 - 27s - loss: 0.0213 - accuracy: 0.9935 - val_loss: 0.0126 - val_accuracy: 0.9959\n",
      "Epoch 11/50\n",
      "787/787 - 27s - loss: 0.0204 - accuracy: 0.9938 - val_loss: 0.0122 - val_accuracy: 0.9965\n",
      "Epoch 12/50\n",
      "787/787 - 27s - loss: 0.0198 - accuracy: 0.9940 - val_loss: 0.0145 - val_accuracy: 0.9962\n",
      "Epoch 13/50\n",
      "787/787 - 27s - loss: 0.0190 - accuracy: 0.9941 - val_loss: 0.0125 - val_accuracy: 0.9963\n",
      "Epoch 14/50\n",
      "787/787 - 26s - loss: 0.0195 - accuracy: 0.9943 - val_loss: 0.0106 - val_accuracy: 0.9968\n",
      "Epoch 15/50\n",
      "787/787 - 27s - loss: 0.0186 - accuracy: 0.9946 - val_loss: 0.0128 - val_accuracy: 0.9962\n",
      "Epoch 16/50\n",
      "787/787 - 28s - loss: 0.0169 - accuracy: 0.9950 - val_loss: 0.0112 - val_accuracy: 0.9964\n",
      "Epoch 17/50\n",
      "787/787 - 28s - loss: 0.0167 - accuracy: 0.9951 - val_loss: 0.0090 - val_accuracy: 0.9971\n",
      "Epoch 18/50\n",
      "787/787 - 27s - loss: 0.0167 - accuracy: 0.9949 - val_loss: 0.0134 - val_accuracy: 0.9959\n",
      "Epoch 19/50\n",
      "787/787 - 27s - loss: 0.0160 - accuracy: 0.9954 - val_loss: 0.0120 - val_accuracy: 0.9974\n",
      "Epoch 20/50\n",
      "787/787 - 27s - loss: 0.0154 - accuracy: 0.9954 - val_loss: 0.0122 - val_accuracy: 0.9968\n",
      "Epoch 21/50\n",
      "787/787 - 27s - loss: 0.0153 - accuracy: 0.9954 - val_loss: 0.0097 - val_accuracy: 0.9968\n",
      "Epoch 22/50\n",
      "787/787 - 27s - loss: 0.0137 - accuracy: 0.9959 - val_loss: 0.0095 - val_accuracy: 0.9971\n",
      "Epoch 23/50\n",
      "787/787 - 27s - loss: 0.0134 - accuracy: 0.9959 - val_loss: 0.0109 - val_accuracy: 0.9972\n",
      "Epoch 24/50\n",
      "787/787 - 27s - loss: 0.0140 - accuracy: 0.9959 - val_loss: 0.0080 - val_accuracy: 0.9971\n",
      "Epoch 25/50\n",
      "787/787 - 27s - loss: 0.0131 - accuracy: 0.9961 - val_loss: 0.0088 - val_accuracy: 0.9968\n",
      "Epoch 26/50\n",
      "787/787 - 27s - loss: 0.0133 - accuracy: 0.9961 - val_loss: 0.0129 - val_accuracy: 0.9968\n",
      "Epoch 27/50\n",
      "787/787 - 27s - loss: 0.0135 - accuracy: 0.9958 - val_loss: 0.0123 - val_accuracy: 0.9967\n",
      "Epoch 28/50\n",
      "787/787 - 28s - loss: 0.0136 - accuracy: 0.9961 - val_loss: 0.0110 - val_accuracy: 0.9971\n",
      "Epoch 29/50\n",
      "787/787 - 27s - loss: 0.0125 - accuracy: 0.9961 - val_loss: 0.0085 - val_accuracy: 0.9974\n",
      "Epoch 30/50\n",
      "787/787 - 27s - loss: 0.0124 - accuracy: 0.9963 - val_loss: 0.0081 - val_accuracy: 0.9976\n",
      "Epoch 31/50\n",
      "787/787 - 27s - loss: 0.0126 - accuracy: 0.9962 - val_loss: 0.0079 - val_accuracy: 0.9975\n",
      "Epoch 32/50\n",
      "787/787 - 27s - loss: 0.0120 - accuracy: 0.9962 - val_loss: 0.0089 - val_accuracy: 0.9973\n",
      "Epoch 33/50\n",
      "787/787 - 27s - loss: 0.0124 - accuracy: 0.9961 - val_loss: 0.0082 - val_accuracy: 0.9976\n",
      "Epoch 34/50\n",
      "787/787 - 27s - loss: 0.0127 - accuracy: 0.9964 - val_loss: 0.0105 - val_accuracy: 0.9977\n",
      "Epoch 35/50\n",
      "787/787 - 29s - loss: 0.0113 - accuracy: 0.9965 - val_loss: 0.0088 - val_accuracy: 0.9979\n",
      "Epoch 36/50\n",
      "787/787 - 27s - loss: 0.0109 - accuracy: 0.9966 - val_loss: 0.0100 - val_accuracy: 0.9975\n",
      "Epoch 37/50\n",
      "787/787 - 27s - loss: 0.0118 - accuracy: 0.9966 - val_loss: 0.0077 - val_accuracy: 0.9980\n",
      "Epoch 38/50\n",
      "787/787 - 26s - loss: 0.0102 - accuracy: 0.9968 - val_loss: 0.0077 - val_accuracy: 0.9978\n",
      "Epoch 39/50\n",
      "787/787 - 28s - loss: 0.0104 - accuracy: 0.9968 - val_loss: 0.0065 - val_accuracy: 0.9982\n",
      "Epoch 40/50\n",
      "787/787 - 27s - loss: 0.0109 - accuracy: 0.9968 - val_loss: 0.0101 - val_accuracy: 0.9978\n",
      "Epoch 41/50\n",
      "787/787 - 27s - loss: 0.0110 - accuracy: 0.9967 - val_loss: 0.0083 - val_accuracy: 0.9979\n",
      "Epoch 42/50\n",
      "787/787 - 27s - loss: 0.0108 - accuracy: 0.9969 - val_loss: 0.0074 - val_accuracy: 0.9980\n",
      "Epoch 43/50\n",
      "787/787 - 28s - loss: 0.0110 - accuracy: 0.9968 - val_loss: 0.0076 - val_accuracy: 0.9979\n",
      "Epoch 44/50\n",
      "787/787 - 29s - loss: 0.0110 - accuracy: 0.9967 - val_loss: 0.0073 - val_accuracy: 0.9981\n",
      "Epoch 45/50\n",
      "787/787 - 30s - loss: 0.0109 - accuracy: 0.9969 - val_loss: 0.0061 - val_accuracy: 0.9986\n",
      "Epoch 46/50\n",
      "787/787 - 29s - loss: 0.0100 - accuracy: 0.9972 - val_loss: 0.0067 - val_accuracy: 0.9980\n",
      "Epoch 47/50\n",
      "787/787 - 28s - loss: 0.0097 - accuracy: 0.9972 - val_loss: 0.0074 - val_accuracy: 0.9985\n",
      "Epoch 48/50\n",
      "787/787 - 28s - loss: 0.0100 - accuracy: 0.9971 - val_loss: 0.0071 - val_accuracy: 0.9985\n",
      "Epoch 49/50\n",
      "787/787 - 27s - loss: 0.0100 - accuracy: 0.9970 - val_loss: 0.0091 - val_accuracy: 0.9979\n",
      "Epoch 50/50\n",
      "787/787 - 27s - loss: 0.0100 - accuracy: 0.9971 - val_loss: 0.0115 - val_accuracy: 0.9973\n"
     ]
    }
   ],
   "source": [
    "#Prediction model\n",
    "history = model.fit(train_gen,\n",
    "                              epochs = epochs,validation_data = (X_val,Y_val),\n",
    "                              verbose = 2, steps_per_epoch=X_train.shape[0] // batch_size\n",
    "                              , callbacks=[learning_rate_reduction],\n",
    "                             validation_steps = X_val.shape[0] // batch_size)"
   ]
  },
  {
   "cell_type": "markdown",
   "id": "96dce349",
   "metadata": {
    "papermill": {
     "duration": 0.075609,
     "end_time": "2021-10-10T05:41:49.291596",
     "exception": false,
     "start_time": "2021-10-10T05:41:49.215987",
     "status": "completed"
    },
    "tags": []
   },
   "source": [
    "### This model accuracy is 99.87% on public and local kaggle submission"
   ]
  },
  {
   "cell_type": "markdown",
   "id": "2e07eff5",
   "metadata": {
    "papermill": {
     "duration": 0.075401,
     "end_time": "2021-10-10T05:41:49.442988",
     "exception": false,
     "start_time": "2021-10-10T05:41:49.367587",
     "status": "completed"
    },
    "tags": []
   },
   "source": [
    "# 4. Evaluate the model\n",
    "## 4.1 Training and validation curves"
   ]
  },
  {
   "cell_type": "code",
   "execution_count": 22,
   "id": "ac6420dd",
   "metadata": {
    "execution": {
     "iopub.execute_input": "2021-10-10T05:41:49.649594Z",
     "iopub.status.busy": "2021-10-10T05:41:49.634538Z",
     "iopub.status.idle": "2021-10-10T05:41:49.959012Z",
     "shell.execute_reply": "2021-10-10T05:41:49.958351Z",
     "shell.execute_reply.started": "2021-07-25T03:35:31.349427Z"
    },
    "papermill": {
     "duration": 0.441338,
     "end_time": "2021-10-10T05:41:49.959175",
     "exception": false,
     "start_time": "2021-10-10T05:41:49.517837",
     "status": "completed"
    },
    "tags": []
   },
   "outputs": [
    {
     "data": {
      "image/png": "[encoded data removed]",
      "text/plain": [
       "<Figure size 432x288 with 2 Axes>"
      ]
     },
     "metadata": {},
     "output_type": "display_data"
    }
   ],
   "source": [
    "# Draw the loss and accuracy curves of the training set and the validation set.\n",
    "# Can judge whether it is under-fitting or over-fitting\n",
    "fig, ax = plt.subplots(2,1)\n",
    "ax[0].plot(history.history['loss'], color='b', label=\"Training loss\")\n",
    "ax[0].plot(history.history['val_loss'], color='r', label=\"validation loss\",axes =ax[0])\n",
    "legend = ax[0].legend(loc='best', shadow=True)\n",
    "\n",
    "ax[1].plot(history.history['accuracy'], color='b', label=\"Training accuracy\")\n",
    "ax[1].plot(history.history['val_accuracy'], color='r',label=\"Validation accuracy\")\n",
    "legend = ax[1].legend(loc='best', shadow=True)"
   ]
  },
  {
   "cell_type": "markdown",
   "id": "8e21a930",
   "metadata": {
    "papermill": {
     "duration": 0.07723,
     "end_time": "2021-10-10T05:41:50.114817",
     "exception": false,
     "start_time": "2021-10-10T05:41:50.037587",
     "status": "completed"
    },
    "tags": []
   },
   "source": [
    "## 4.2 Confusion matrix"
   ]
  },
  {
   "cell_type": "markdown",
   "id": "131578ea",
   "metadata": {
    "papermill": {
     "duration": 0.076113,
     "end_time": "2021-10-10T05:41:50.266992",
     "exception": false,
     "start_time": "2021-10-10T05:41:50.190879",
     "status": "completed"
    },
    "tags": []
   },
   "source": [
    "Confusion matrix can be very helpful to see your model drawbacks and behavior.\n",
    "\n",
    "I plot the confusion matrix of the validation results. "
   ]
  },
  {
   "cell_type": "code",
   "execution_count": 23,
   "id": "d795ec04",
   "metadata": {
    "execution": {
     "iopub.execute_input": "2021-10-10T05:41:50.444077Z",
     "iopub.status.busy": "2021-10-10T05:41:50.442967Z",
     "iopub.status.idle": "2021-10-10T05:41:50.455608Z",
     "shell.execute_reply": "2021-10-10T05:41:50.456408Z",
     "shell.execute_reply.started": "2021-07-25T03:35:31.72719Z"
    },
    "papermill": {
     "duration": 0.112914,
     "end_time": "2021-10-10T05:41:50.456640",
     "exception": false,
     "start_time": "2021-10-10T05:41:50.343726",
     "status": "completed"
    },
    "tags": []
   },
   "outputs": [],
   "source": [
    "# Draw a confusion matrix that can be used to observe high false positives\n",
    "\n",
    "def plot_confusion_matrix(cm, classes,\n",
    "                          normalize=False,\n",
    "                          title='Confusion matrix',\n",
    "                          cmap=plt.cm.Blues):\n",
    "    \"\"\"\n",
    "    This function prints and plots the confusion matrix.\n",
    "    Normalization can be applied by setting `normalize=True`.\n",
    "    \"\"\"\n",
    "    plt.imshow(cm, interpolation='nearest', cmap=cmap)\n",
    "    plt.title(title)\n",
    "    plt.colorbar()\n",
    "    tick_marks = np.arange(len(classes))\n",
    "    plt.xticks(tick_marks, classes, rotation=45)\n",
    "    plt.yticks(tick_marks, classes)\n",
    "\n",
    "    if normalize:\n",
    "        cm = cm.astype('float') / cm.sum(axis=1)[:, np.newaxis]\n",
    "\n",
    "    thresh = cm.max() / 2.\n",
    "    for i, j in itertools.product(range(cm.shape[0]), range(cm.shape[1])):\n",
    "        plt.text(j, i, cm[i, j],\n",
    "                 horizontalalignment=\"center\",\n",
    "                 color=\"white\" if cm[i, j] > thresh else \"black\")\n",
    "        \n",
    "    plt.tight_layout()\n",
    "    plt.ylabel('True label')\n",
    "    plt.xlabel('Predicted label');"
   ]
  },
  {
   "cell_type": "code",
   "execution_count": 24,
   "id": "1a553ed9",
   "metadata": {
    "execution": {
     "iopub.execute_input": "2021-10-10T05:41:50.713537Z",
     "iopub.status.busy": "2021-10-10T05:41:50.712724Z",
     "iopub.status.idle": "2021-10-10T05:41:52.330466Z",
     "shell.execute_reply": "2021-10-10T05:41:52.329902Z",
     "shell.execute_reply.started": "2021-07-25T03:35:31.737631Z"
    },
    "papermill": {
     "duration": 1.746886,
     "end_time": "2021-10-10T05:41:52.330598",
     "exception": false,
     "start_time": "2021-10-10T05:41:50.583712",
     "status": "completed"
    },
    "tags": []
   },
   "outputs": [
    {
     "data": {
      "image/png": "[encoded data removed]",
      "text/plain": [
       "<Figure size 432x288 with 2 Axes>"
      ]
     },
     "metadata": {},
     "output_type": "display_data"
    }
   ],
   "source": [
    "# Predict the values from the validation dataset\n",
    "Y_pred = model.predict(X_val)\n",
    "# Convert predictions classes to one hot vectors \n",
    "Y_pred_classes = np.argmax(Y_pred,axis = 1) \n",
    "# Convert validation observations to one hot vectors\n",
    "Y_true = np.argmax(Y_val,axis = 1) \n",
    "# compute the confusion matrix\n",
    "confusion_mtx = confusion_matrix(Y_true, Y_pred_classes) \n",
    "# plot the confusion matrix\n",
    "plot_confusion_matrix(confusion_mtx, classes = range(10)) "
   ]
  },
  {
   "cell_type": "code",
   "execution_count": 25,
   "id": "d36589c7",
   "metadata": {
    "execution": {
     "iopub.execute_input": "2021-10-10T05:41:52.494636Z",
     "iopub.status.busy": "2021-10-10T05:41:52.493911Z",
     "iopub.status.idle": "2021-10-10T05:41:52.496878Z",
     "shell.execute_reply": "2021-10-10T05:41:52.496454Z",
     "shell.execute_reply.started": "2021-07-25T03:35:33.229267Z"
    },
    "papermill": {
     "duration": 0.087885,
     "end_time": "2021-10-10T05:41:52.496991",
     "exception": false,
     "start_time": "2021-10-10T05:41:52.409106",
     "status": "completed"
    },
    "tags": []
   },
   "outputs": [],
   "source": [
    "# Show some wrong results, and the difference between the predicted label and the real labe\n",
    "errors = (Y_pred_classes - Y_true != 0)\n",
    "\n",
    "Y_pred_classes_errors = Y_pred_classes[errors]\n",
    "Y_pred_errors = Y_pred[errors]\n",
    "Y_true_errors = Y_true[errors]\n",
    "X_val_errors = X_val[errors]"
   ]
  },
  {
   "cell_type": "markdown",
   "id": "9803eb2a",
   "metadata": {
    "papermill": {
     "duration": 0.077549,
     "end_time": "2021-10-10T05:41:52.651683",
     "exception": false,
     "start_time": "2021-10-10T05:41:52.574134",
     "status": "completed"
    },
    "tags": []
   },
   "source": [
    "**Bounus : Displaying The Errors And Showing The Top 6 Errors And It's True Label**"
   ]
  },
  {
   "cell_type": "code",
   "execution_count": 26,
   "id": "8b461593",
   "metadata": {
    "execution": {
     "iopub.execute_input": "2021-10-10T05:41:52.813798Z",
     "iopub.status.busy": "2021-10-10T05:41:52.812124Z",
     "iopub.status.idle": "2021-10-10T05:41:52.814916Z",
     "shell.execute_reply": "2021-10-10T05:41:52.815425Z",
     "shell.execute_reply.started": "2021-07-25T03:35:33.236214Z"
    },
    "papermill": {
     "duration": 0.08658,
     "end_time": "2021-10-10T05:41:52.815559",
     "exception": false,
     "start_time": "2021-10-10T05:41:52.728979",
     "status": "completed"
    },
    "tags": []
   },
   "outputs": [],
   "source": [
    "def display_errors(errors_index,img_errors,pred_errors, obs_errors):\n",
    "    \"\"\" This function shows 6 images with their predicted and real labels\"\"\"\n",
    "    n = 0\n",
    "    nrows = 2\n",
    "    ncols = 3\n",
    "    fig, ax = plt.subplots(nrows,ncols,sharex=True,sharey=True)\n",
    "    for row in range(nrows):\n",
    "        for col in range(ncols):\n",
    "            error = errors_index[n]\n",
    "            ax[row,col].imshow((img_errors[error]).reshape((28,28)))\n",
    "            ax[row,col].set_title(\"Predicted label :{}\\nTrue label :{}\".format(pred_errors[error],obs_errors[error]))\n",
    "            n += 1"
   ]
  },
  {
   "cell_type": "code",
   "execution_count": 27,
   "id": "2b9c1a16",
   "metadata": {
    "execution": {
     "iopub.execute_input": "2021-10-10T05:41:52.997252Z",
     "iopub.status.busy": "2021-10-10T05:41:52.986004Z",
     "iopub.status.idle": "2021-10-10T05:41:53.575757Z",
     "shell.execute_reply": "2021-10-10T05:41:53.576199Z",
     "shell.execute_reply.started": "2021-07-25T03:35:33.246668Z"
    },
    "papermill": {
     "duration": 0.681894,
     "end_time": "2021-10-10T05:41:53.576352",
     "exception": false,
     "start_time": "2021-10-10T05:41:52.894458",
     "status": "completed"
    },
    "tags": []
   },
   "outputs": [
    {
     "data": {
      "image/png": "[encoded data removed]",
      "text/plain": [
       "<Figure size 432x288 with 6 Axes>"
      ]
     },
     "metadata": {},
     "output_type": "display_data"
    }
   ],
   "source": [
    "# Probabilities of the wrong predicted numbers\n",
    "Y_pred_errors_prob = np.max(Y_pred_errors,axis = 1)\n",
    "\n",
    "# Predicted probabilities of the true values in the error set\n",
    "true_prob_errors = np.diagonal(np.take(Y_pred_errors, Y_true_errors, axis=1))\n",
    "\n",
    "# Difference between the probability of the predicted label and the true label\n",
    "delta_pred_true_errors = Y_pred_errors_prob - true_prob_errors\n",
    "\n",
    "# Sorted list of the delta prob errors\n",
    "sorted_dela_errors = np.argsort(delta_pred_true_errors)\n",
    "\n",
    "# Top 6 errors \n",
    "most_important_errors = sorted_dela_errors[-6:]\n",
    "\n",
    "# Show the top 6 errors\n",
    "display_errors(most_important_errors, X_val_errors, Y_pred_classes_errors, Y_true_errors)"
   ]
  },
  {
   "cell_type": "markdown",
   "id": "6dd383a8",
   "metadata": {
    "papermill": {
     "duration": 0.077786,
     "end_time": "2021-10-10T05:41:53.732838",
     "exception": false,
     "start_time": "2021-10-10T05:41:53.655052",
     "status": "completed"
    },
    "tags": []
   },
   "source": [
    "# 5. Prediction and submition"
   ]
  },
  {
   "cell_type": "markdown",
   "id": "1f08fb72",
   "metadata": {
    "papermill": {
     "duration": 0.080299,
     "end_time": "2021-10-10T05:41:53.891144",
     "exception": false,
     "start_time": "2021-10-10T05:41:53.810845",
     "status": "completed"
    },
    "tags": []
   },
   "source": [
    "## 5.1 Prediction validation results"
   ]
  },
  {
   "cell_type": "code",
   "execution_count": 28,
   "id": "a3b48807",
   "metadata": {
    "execution": {
     "iopub.execute_input": "2021-10-10T05:41:54.053912Z",
     "iopub.status.busy": "2021-10-10T05:41:54.053018Z",
     "iopub.status.idle": "2021-10-10T05:41:55.354630Z",
     "shell.execute_reply": "2021-10-10T05:41:55.354149Z",
     "shell.execute_reply.started": "2021-07-25T03:35:33.868065Z"
    },
    "papermill": {
     "duration": 1.385482,
     "end_time": "2021-10-10T05:41:55.354776",
     "exception": false,
     "start_time": "2021-10-10T05:41:53.969294",
     "status": "completed"
    },
    "tags": []
   },
   "outputs": [],
   "source": [
    "# Make predictions about test sets\n",
    "results = model.predict(test)\n",
    "\n",
    "# Convert one-hot vector to number\n",
    "results = np.argmax(results,axis = 1)\n",
    "\n",
    "results = pd.Series(results,name=\"Label\")"
   ]
  },
  {
   "cell_type": "code",
   "execution_count": 29,
   "id": "3bc195be",
   "metadata": {
    "execution": {
     "iopub.execute_input": "2021-10-10T05:41:55.518237Z",
     "iopub.status.busy": "2021-10-10T05:41:55.517628Z",
     "iopub.status.idle": "2021-10-10T05:41:55.569228Z",
     "shell.execute_reply": "2021-10-10T05:41:55.568753Z",
     "shell.execute_reply.started": "2021-07-25T03:35:35.471891Z"
    },
    "papermill": {
     "duration": 0.135853,
     "end_time": "2021-10-10T05:41:55.569356",
     "exception": false,
     "start_time": "2021-10-10T05:41:55.433503",
     "status": "completed"
    },
    "tags": []
   },
   "outputs": [],
   "source": [
    "# Save the final result in cnn_mnist_submission.csv\n",
    "submission = pd.concat([pd.Series(range(1,28001),name = \"ImageId\"),results],axis = 1)\n",
    "\n",
    "submission.to_csv(\"cnn_mnist_submission.csv\",index=False)"
   ]
  },
  {
   "cell_type": "markdown",
   "id": "40cfdf84",
   "metadata": {
    "papermill": {
     "duration": 0.078176,
     "end_time": "2021-10-10T05:41:55.726124",
     "exception": false,
     "start_time": "2021-10-10T05:41:55.647948",
     "status": "completed"
    },
    "tags": []
   },
   "source": [
    "# 6. The 100% accuracy solution ==> Top 1%"
   ]
  },
  {
   "cell_type": "markdown",
   "id": "70bdcfae",
   "metadata": {
    "papermill": {
     "duration": 0.080905,
     "end_time": "2021-10-10T05:41:55.885370",
     "exception": false,
     "start_time": "2021-10-10T05:41:55.804465",
     "status": "completed"
    },
    "tags": []
   },
   "source": [
    "I performed kNN k=1 with Kaggle's 28,000 \"test.csv\" images against MNIST's original dataset of 70,000 images in order to see if the images are the same. The result verifies that Kaggle's unknown \"test.csv\" images are entirely contained unaltered within MNIST's original dataset with known labels. Therefore we CANNOT train with MNIST's original data, we must train our models with Kaggle's \"train.csv\" 42,000 images, data augmentation, and/or non-MNIST image datasets."
   ]
  },
  {
   "cell_type": "code",
   "execution_count": 30,
   "id": "776bd4f0",
   "metadata": {
    "execution": {
     "iopub.execute_input": "2021-10-10T05:41:56.046468Z",
     "iopub.status.busy": "2021-10-10T05:41:56.045697Z",
     "iopub.status.idle": "2021-10-10T05:41:56.320474Z",
     "shell.execute_reply": "2021-10-10T05:41:56.319950Z",
     "shell.execute_reply.started": "2021-07-25T00:01:27.73098Z"
    },
    "papermill": {
     "duration": 0.357055,
     "end_time": "2021-10-10T05:41:56.320639",
     "exception": false,
     "start_time": "2021-10-10T05:41:55.963584",
     "status": "completed"
    },
    "tags": []
   },
   "outputs": [],
   "source": [
    "(x_train1, y_train1), (x_test1, y_test1) = mnist.load_data()\n",
    "\n",
    "Y_train1 = y_train1\n",
    "X_train1 = x_train1.reshape(-1, 28*28)"
   ]
  },
  {
   "cell_type": "code",
   "execution_count": 31,
   "id": "b15834d4",
   "metadata": {
    "execution": {
     "iopub.execute_input": "2021-10-10T05:41:56.484221Z",
     "iopub.status.busy": "2021-10-10T05:41:56.483089Z",
     "iopub.status.idle": "2021-10-10T05:41:56.506871Z",
     "shell.execute_reply": "2021-10-10T05:41:56.507488Z",
     "shell.execute_reply.started": "2021-07-25T00:01:28.599036Z"
    },
    "papermill": {
     "duration": 0.108212,
     "end_time": "2021-10-10T05:41:56.507669",
     "exception": false,
     "start_time": "2021-10-10T05:41:56.399457",
     "status": "completed"
    },
    "tags": []
   },
   "outputs": [
    {
     "name": "stdout",
     "output_type": "stream",
     "text": [
      "(70000, 784)\n",
      "(70000, 1)\n"
     ]
    }
   ],
   "source": [
    "mnist_image = np.vstack((x_train1,x_test1))\n",
    "mnist_image = mnist_image.reshape(-1,784)\n",
    "print(mnist_image.shape)\n",
    "mnist_label = np.vstack((y_train1.reshape(-1,1),y_test1.reshape(-1,1)))\n",
    "print(mnist_label.shape)"
   ]
  },
  {
   "cell_type": "code",
   "execution_count": 32,
   "id": "1635ed32",
   "metadata": {
    "execution": {
     "iopub.execute_input": "2021-10-10T05:41:56.669571Z",
     "iopub.status.busy": "2021-10-10T05:41:56.669034Z",
     "iopub.status.idle": "2021-10-10T05:42:00.567905Z",
     "shell.execute_reply": "2021-10-10T05:42:00.567398Z",
     "shell.execute_reply.started": "2021-07-25T00:01:28.628862Z"
    },
    "papermill": {
     "duration": 3.981322,
     "end_time": "2021-10-10T05:42:00.568049",
     "exception": false,
     "start_time": "2021-10-10T05:41:56.586727",
     "status": "completed"
    },
    "tags": []
   },
   "outputs": [],
   "source": [
    "train_data = pd.read_csv('../input/digit-recognizer/train.csv')\n",
    "test_data  = pd.read_csv('../input/digit-recognizer/test.csv')"
   ]
  },
  {
   "cell_type": "code",
   "execution_count": 33,
   "id": "58bc7947",
   "metadata": {
    "execution": {
     "iopub.execute_input": "2021-10-10T05:42:00.733080Z",
     "iopub.status.busy": "2021-10-10T05:42:00.731865Z",
     "iopub.status.idle": "2021-10-10T05:42:00.828809Z",
     "shell.execute_reply": "2021-10-10T05:42:00.828332Z",
     "shell.execute_reply.started": "2021-07-25T00:01:34.130525Z"
    },
    "papermill": {
     "duration": 0.181363,
     "end_time": "2021-10-10T05:42:00.828941",
     "exception": false,
     "start_time": "2021-10-10T05:42:00.647578",
     "status": "completed"
    },
    "tags": []
   },
   "outputs": [],
   "source": [
    "train_images = train_data.copy()\n",
    "train_images = train_images.values\n",
    "X_train = train_images[:,1:]\n",
    "y_train = train_images[:,0]\n",
    "X_test = test_data.values"
   ]
  },
  {
   "cell_type": "code",
   "execution_count": 34,
   "id": "f65fe1e9",
   "metadata": {
    "execution": {
     "iopub.execute_input": "2021-10-10T05:42:00.991288Z",
     "iopub.status.busy": "2021-10-10T05:42:00.990691Z",
     "iopub.status.idle": "2021-10-10T05:42:00.995116Z",
     "shell.execute_reply": "2021-10-10T05:42:00.994656Z",
     "shell.execute_reply.started": "2021-07-25T00:01:34.233441Z"
    },
    "papermill": {
     "duration": 0.086538,
     "end_time": "2021-10-10T05:42:00.995233",
     "exception": false,
     "start_time": "2021-10-10T05:42:00.908695",
     "status": "completed"
    },
    "tags": []
   },
   "outputs": [
    {
     "name": "stdout",
     "output_type": "stream",
     "text": [
      "(42000, 28, 28)\n",
      "(42000, 1)\n"
     ]
    }
   ],
   "source": [
    "X_train = X_train.reshape(-1,28,28)\n",
    "y_train = y_train.reshape(-1,1)\n",
    "\n",
    "print(X_train.shape)\n",
    "print(y_train.shape)"
   ]
  },
  {
   "cell_type": "code",
   "execution_count": 35,
   "id": "eb34f705",
   "metadata": {
    "execution": {
     "iopub.execute_input": "2021-10-10T05:42:01.156316Z",
     "iopub.status.busy": "2021-10-10T05:42:01.155729Z",
     "iopub.status.idle": "2021-10-10T05:42:01.159737Z",
     "shell.execute_reply": "2021-10-10T05:42:01.159280Z",
     "shell.execute_reply.started": "2021-07-25T00:01:34.244547Z"
    },
    "papermill": {
     "duration": 0.085936,
     "end_time": "2021-10-10T05:42:01.159874",
     "exception": false,
     "start_time": "2021-10-10T05:42:01.073938",
     "status": "completed"
    },
    "tags": []
   },
   "outputs": [],
   "source": [
    "predictions = np.zeros((X_train.shape[0]))"
   ]
  },
  {
   "cell_type": "code",
   "execution_count": 36,
   "id": "637f7897",
   "metadata": {
    "execution": {
     "iopub.execute_input": "2021-10-10T05:42:01.323885Z",
     "iopub.status.busy": "2021-10-10T05:42:01.323089Z",
     "iopub.status.idle": "2021-10-10T08:37:57.942131Z",
     "shell.execute_reply": "2021-10-10T08:37:57.942800Z",
     "shell.execute_reply.started": "2021-07-25T00:01:34.252481Z"
    },
    "papermill": {
     "duration": 10556.705172,
     "end_time": "2021-10-10T08:37:57.943009",
     "exception": false,
     "start_time": "2021-10-10T05:42:01.237837",
     "status": "completed"
    },
    "tags": []
   },
   "outputs": [
    {
     "name": "stdout",
     "output_type": "stream",
     "text": [
      "Classifying Kaggle's 'test.csv' using KNN where K=1 and MNIST 70k images..\n",
      "  0 images classified perfectly  1000 images classified perfectly  2000 images classified perfectly  3000 images classified perfectly  4000 images classified perfectly  5000 images classified perfectly  6000 images classified perfectly  7000 images classified perfectly  8000 images classified perfectly  9000 images classified perfectly  10000 images classified perfectly  11000 images classified perfectly  12000 images classified perfectly  13000 images classified perfectly  14000 images classified perfectly  15000 images classified perfectly  16000 images classified perfectly  17000 images classified perfectly  18000 images classified perfectly  19000 images classified perfectly  20000 images classified perfectly  21000 images classified perfectly  22000 images classified perfectly  23000 images classified perfectly  24000 images classified perfectly  25000 images classified perfectly  26000 images classified perfectly  27000 images classified perfectly 28000 images classified perfectly.\n",
      "All 28000 images are contained in MNIST.npz Dataset.\n",
      "24015 images are in MNIST.npz train and 3985 images are in MNIST.npz test\n"
     ]
    }
   ],
   "source": [
    "x1=0\n",
    "x2=0\n",
    "print(\"Classifying Kaggle's 'test.csv' using KNN where K=1 and MNIST 70k images..\")\n",
    "for i in range(0,28000):\n",
    "    for j in range(0,70000):\n",
    "        if np.absolute(X_test[i,:]-mnist_image[j,:]).sum()==0:\n",
    "            predictions[i]=mnist_label[j]\n",
    "            if i%1000==0:\n",
    "                print(\"  %d images classified perfectly\"%(i),end=\"\")\n",
    "            if j<60000:\n",
    "                x1+=1\n",
    "            else:\n",
    "                x2+=1\n",
    "            break\n",
    "\n",
    "if x1+x2==28000:\n",
    "    print(\" 28000 images classified perfectly.\")\n",
    "    print(\"All 28000 images are contained in MNIST.npz Dataset.\")\n",
    "    print(\"%d images are in MNIST.npz train and %d images are in MNIST.npz test\"%(x1,x2))"
   ]
  },
  {
   "cell_type": "code",
   "execution_count": 37,
   "id": "fd34cfd0",
   "metadata": {
    "execution": {
     "iopub.execute_input": "2021-10-10T08:37:58.139058Z",
     "iopub.status.busy": "2021-10-10T08:37:58.136621Z",
     "iopub.status.idle": "2021-10-10T08:37:58.139661Z",
     "shell.execute_reply": "2021-10-10T08:37:58.140164Z",
     "shell.execute_reply.started": "2021-07-25T03:08:27.258861Z"
    },
    "papermill": {
     "duration": 0.099615,
     "end_time": "2021-10-10T08:37:58.140300",
     "exception": false,
     "start_time": "2021-10-10T08:37:58.040685",
     "status": "completed"
    },
    "tags": []
   },
   "outputs": [],
   "source": [
    "final_pred = predictions[0:28000]"
   ]
  },
  {
   "cell_type": "code",
   "execution_count": 38,
   "id": "b1635c1e",
   "metadata": {
    "execution": {
     "iopub.execute_input": "2021-10-10T08:37:58.343931Z",
     "iopub.status.busy": "2021-10-10T08:37:58.343083Z",
     "iopub.status.idle": "2021-10-10T08:37:58.357719Z",
     "shell.execute_reply": "2021-10-10T08:37:58.358170Z",
     "shell.execute_reply.started": "2021-07-25T03:08:27.707418Z"
    },
    "papermill": {
     "duration": 0.11282,
     "end_time": "2021-10-10T08:37:58.358308",
     "exception": false,
     "start_time": "2021-10-10T08:37:58.245488",
     "status": "completed"
    },
    "tags": []
   },
   "outputs": [
    {
     "data": {
      "text/html": [
       "<div>\n",
       "<style scoped>\n",
       "    .dataframe tbody tr th:only-of-type {\n",
       "        vertical-align: middle;\n",
       "    }\n",
       "\n",
       "    .dataframe tbody tr th {\n",
       "        vertical-align: top;\n",
       "    }\n",
       "\n",
       "    .dataframe thead th {\n",
       "        text-align: right;\n",
       "    }\n",
       "</style>\n",
       "<table border=\"1\" class=\"dataframe\">\n",
       "  <thead>\n",
       "    <tr style=\"text-align: right;\">\n",
       "      <th></th>\n",
       "      <th>ImageId</th>\n",
       "      <th>Label</th>\n",
       "    </tr>\n",
       "  </thead>\n",
       "  <tbody>\n",
       "    <tr>\n",
       "      <th>0</th>\n",
       "      <td>0</td>\n",
       "      <td>2</td>\n",
       "    </tr>\n",
       "    <tr>\n",
       "      <th>1</th>\n",
       "      <td>1</td>\n",
       "      <td>0</td>\n",
       "    </tr>\n",
       "    <tr>\n",
       "      <th>2</th>\n",
       "      <td>2</td>\n",
       "      <td>9</td>\n",
       "    </tr>\n",
       "    <tr>\n",
       "      <th>3</th>\n",
       "      <td>3</td>\n",
       "      <td>0</td>\n",
       "    </tr>\n",
       "    <tr>\n",
       "      <th>4</th>\n",
       "      <td>4</td>\n",
       "      <td>3</td>\n",
       "    </tr>\n",
       "  </tbody>\n",
       "</table>\n",
       "</div>"
      ],
      "text/plain": [
       "   ImageId  Label\n",
       "0        0      2\n",
       "1        1      0\n",
       "2        2      9\n",
       "3        3      0\n",
       "4        4      3"
      ]
     },
     "execution_count": 38,
     "metadata": {},
     "output_type": "execute_result"
    }
   ],
   "source": [
    "my_submission = pd.DataFrame({'ImageId':np.arange(28000),'Label':final_pred.squeeze().astype(np.int)})\n",
    "my_submission.head()"
   ]
  },
  {
   "cell_type": "code",
   "execution_count": 39,
   "id": "bbcc43ce",
   "metadata": {
    "execution": {
     "iopub.execute_input": "2021-10-10T08:37:58.545880Z",
     "iopub.status.busy": "2021-10-10T08:37:58.544484Z",
     "iopub.status.idle": "2021-10-10T08:37:58.547489Z",
     "shell.execute_reply": "2021-10-10T08:37:58.547081Z",
     "shell.execute_reply.started": "2021-07-25T03:08:28.668461Z"
    },
    "papermill": {
     "duration": 0.099607,
     "end_time": "2021-10-10T08:37:58.547599",
     "exception": false,
     "start_time": "2021-10-10T08:37:58.447992",
     "status": "completed"
    },
    "tags": []
   },
   "outputs": [],
   "source": [
    "my_submission[\"ImageId\"]=my_submission[\"ImageId\"]+1"
   ]
  },
  {
   "cell_type": "code",
   "execution_count": 40,
   "id": "8c998707",
   "metadata": {
    "execution": {
     "iopub.execute_input": "2021-10-10T08:37:58.739632Z",
     "iopub.status.busy": "2021-10-10T08:37:58.737811Z",
     "iopub.status.idle": "2021-10-10T08:37:58.785513Z",
     "shell.execute_reply": "2021-10-10T08:37:58.785095Z",
     "shell.execute_reply.started": "2021-07-25T03:08:30.046277Z"
    },
    "papermill": {
     "duration": 0.14657,
     "end_time": "2021-10-10T08:37:58.785629",
     "exception": false,
     "start_time": "2021-10-10T08:37:58.639059",
     "status": "completed"
    },
    "tags": []
   },
   "outputs": [],
   "source": [
    "my_submission.to_csv('best_submission.csv', index=False)"
   ]
  },
  {
   "cell_type": "markdown",
   "id": "11227fec",
   "metadata": {
    "papermill": {
     "duration": 0.091866,
     "end_time": "2021-10-10T08:37:58.967877",
     "exception": false,
     "start_time": "2021-10-10T08:37:58.876011",
     "status": "completed"
    },
    "tags": []
   },
   "source": [
    "## 6.1 Reason Behind KNN"
   ]
  },
  {
   "cell_type": "markdown",
   "id": "9122df95",
   "metadata": {
    "papermill": {
     "duration": 0.088816,
     "end_time": "2021-10-10T08:37:59.152609",
     "exception": false,
     "start_time": "2021-10-10T08:37:59.063793",
     "status": "completed"
    },
    "tags": []
   },
   "source": [
    "Every Kaggle \"test.csv\" image was found unaltered within MNIST's 70,000 image dataset. Therefore we CANNOT use the original 70,000 MNIST image dataset to train models for Kaggle's MNIST competition. Since MNIST's full dataset contains labels, we would know precisely what each unknown Kaggle test image's label is. We must train our models with Kaggle's \"train.csv\" 42,000 images, data augmentation, and/or non-MNIST image datasets. The following csv file would score 100% on Kaggle's public and private leaderboard if submitted."
   ]
  },
  {
   "cell_type": "markdown",
   "id": "7f774d73",
   "metadata": {
    "papermill": {
     "duration": 0.090778,
     "end_time": "2021-10-10T08:37:59.333571",
     "exception": false,
     "start_time": "2021-10-10T08:37:59.242793",
     "status": "completed"
    },
    "tags": []
   },
   "source": [
    "# 7. References\n",
    "\n",
    "1. https://keras.io/models/sequential/\n",
    "2. https://keras.io/layers/core/\n",
    "3. https://keras.io/layers/convolutional/\n",
    "4. https://keras.io/layers/pooling/\n",
    "5. https://www.kaggle.com/elcaiseri/mnist-simple-cnn-keras-accuracy-0-99-top-1\n",
    "6. https://www.kaggle.com/yassineghouzam/introduction-to-cnn-keras-0-997-top-6\n",
    "7. https://www.kaggle.com/kanncaa1/convolutional-neural-network-cnn-tutorial\n",
    "8. https://www.analyticsvidhya.com/blog/2018/03/introduction-k-neighbours-algorithm-clustering/"
   ]
  },
  {
   "cell_type": "markdown",
   "id": "a8c09e4e",
   "metadata": {
    "papermill": {
     "duration": 0.089838,
     "end_time": "2021-10-10T08:37:59.511996",
     "exception": false,
     "start_time": "2021-10-10T08:37:59.422158",
     "status": "completed"
    },
    "tags": []
   },
   "source": [
    "# 8. Sklearn Soluation"
   ]
  },
  {
   "cell_type": "markdown",
   "id": "62696788",
   "metadata": {
    "papermill": {
     "duration": 0.096656,
     "end_time": "2021-10-10T08:37:59.700366",
     "exception": false,
     "start_time": "2021-10-10T08:37:59.603710",
     "status": "completed"
    },
    "tags": []
   },
   "source": [
    "You can find out anthor soluation using simple model sklearn \"Random Forest Classifier\" with more than 94.5% accuracy here on this link **<a href='https://www.kaggle.com/elcaiseri/mnist-simple-sklearn-model-95-accuracy'>MNIST: Simple Sklearn Model</a>**"
   ]
  },
  {
   "cell_type": "markdown",
   "id": "2515f5ae",
   "metadata": {
    "papermill": {
     "duration": 0.091579,
     "end_time": "2021-10-10T08:37:59.884402",
     "exception": false,
     "start_time": "2021-10-10T08:37:59.792823",
     "status": "completed"
    },
    "tags": []
   },
   "source": [
    "## Finally,  **<span style='color:#FF6701;'>UPVOTE</span>**  this kernel if you found it useful, feel free in comments."
   ]
  }
 ],
 "metadata": {
  "kernelspec": {
   "display_name": "Python 3",
   "language": "python",
   "name": "python3"
  },
  "language_info": {
   "codemirror_mode": {
    "name": "ipython",
    "version": 3
   },
   "file_extension": ".py",
   "mimetype": "text/x-python",
   "name": "python",
   "nbconvert_exporter": "python",
   "pygments_lexer": "ipython3",
   "version": "3.7.10"
  },
  "papermill": {
   "default_parameters": {},
   "duration": 11971.779105,
   "end_time": "2021-10-10T08:38:02.618376",
   "environment_variables": {},
   "exception": null,
   "input_path": "__notebook__.ipynb",
   "output_path": "__notebook__.ipynb",
   "parameters": {},
   "start_time": "2021-10-10T05:18:30.839271",
   "version": "2.3.3"
  }
 },
 "nbformat": 4,
 "nbformat_minor": 5
}
